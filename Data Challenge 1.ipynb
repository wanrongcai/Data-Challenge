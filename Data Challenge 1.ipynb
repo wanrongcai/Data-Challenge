{
 "cells": [
  {
   "cell_type": "code",
   "execution_count": 1,
   "metadata": {},
   "outputs": [],
   "source": [
    "import numpy as np\n",
    "import seaborn as sns\n",
    "import matplotlib.pyplot as plt\n",
    "import pandas as pd\n",
    "import sys "
   ]
  },
  {
   "cell_type": "code",
   "execution_count": 2,
   "metadata": {},
   "outputs": [],
   "source": [
    "green_data_origin=pd.read_csv('green_tripdata_2015-09.csv',sep=',')\n",
    "yellow_data_origin=pd.read_csv('yellow_tripdata_2015-09.csv',sep=',')\n",
    "green_data_origin.columns=['VendorID','lpep_pickup_datetime','Lpep_dropoff_datetime','Store_and_fwd_flag',\n",
    "                           'RateCodeID','Pickup_longitude','Pickup_latitude','Dropoff_longitude','Dropoff_latitude',\n",
    "                           'Passenger_count','Trip_distance','Fare_amount','Extra','MTA_tax','Tip_amount','Tolls_amount',\n",
    "                           'Ehail_fee','improvement_surcharge','Total_amount','Payment_type','Trip_type ']\n",
    "yellow_data_origin.columns=['VendorID','tpep_pickup_datetime','tpep_dropoff_datetime','passenger_count','trip_distance',\n",
    "                           'pickup_longitude','pickup_latitude','RatecodeID','store_and_fwd_flag','dropoff_longitude',\n",
    "                           'dropoff_latitude','payment_type','fare_amount','extra','mta_tax','tip_amount','tolls_amount',\n",
    "                           'improvement_surcharge','total_amount']"
   ]
  },
  {
   "cell_type": "markdown",
   "metadata": {},
   "source": [
    "# Question1"
   ]
  },
  {
   "cell_type": "code",
   "execution_count": 3,
   "metadata": {},
   "outputs": [
    {
     "name": "stdout",
     "output_type": "stream",
     "text": [
      "<class 'pandas.core.frame.DataFrame'>\n",
      "RangeIndex: 1048575 entries, 0 to 1048574\n",
      "Data columns (total 21 columns):\n",
      " #   Column                 Non-Null Count    Dtype  \n",
      "---  ------                 --------------    -----  \n",
      " 0   VendorID               1048575 non-null  int64  \n",
      " 1   lpep_pickup_datetime   1048575 non-null  object \n",
      " 2   Lpep_dropoff_datetime  1048575 non-null  object \n",
      " 3   Store_and_fwd_flag     1048575 non-null  object \n",
      " 4   RateCodeID             1048575 non-null  int64  \n",
      " 5   Pickup_longitude       1048575 non-null  float64\n",
      " 6   Pickup_latitude        1048575 non-null  float64\n",
      " 7   Dropoff_longitude      1048575 non-null  float64\n",
      " 8   Dropoff_latitude       1048575 non-null  float64\n",
      " 9   Passenger_count        1048575 non-null  int64  \n",
      " 10  Trip_distance          1048575 non-null  float64\n",
      " 11  Fare_amount            1048575 non-null  float64\n",
      " 12  Extra                  1048575 non-null  float64\n",
      " 13  MTA_tax                1048575 non-null  float64\n",
      " 14  Tip_amount             1048575 non-null  float64\n",
      " 15  Tolls_amount           1048575 non-null  float64\n",
      " 16  Ehail_fee              0 non-null        float64\n",
      " 17  improvement_surcharge  1048575 non-null  float64\n",
      " 18  Total_amount           1048575 non-null  float64\n",
      " 19  Payment_type           1048575 non-null  int64  \n",
      " 20  Trip_type              1048572 non-null  float64\n",
      "dtypes: float64(14), int64(4), object(3)\n",
      "memory usage: 168.0+ MB\n",
      "\n",
      "\n",
      "<class 'pandas.core.frame.DataFrame'>\n",
      "RangeIndex: 1048575 entries, 0 to 1048574\n",
      "Data columns (total 19 columns):\n",
      " #   Column                 Non-Null Count    Dtype  \n",
      "---  ------                 --------------    -----  \n",
      " 0   VendorID               1048575 non-null  int64  \n",
      " 1   tpep_pickup_datetime   1048575 non-null  object \n",
      " 2   tpep_dropoff_datetime  1048575 non-null  object \n",
      " 3   passenger_count        1048575 non-null  int64  \n",
      " 4   trip_distance          1048575 non-null  float64\n",
      " 5   pickup_longitude       1048575 non-null  float64\n",
      " 6   pickup_latitude        1048575 non-null  float64\n",
      " 7   RatecodeID             1048575 non-null  int64  \n",
      " 8   store_and_fwd_flag     1048575 non-null  object \n",
      " 9   dropoff_longitude      1048575 non-null  float64\n",
      " 10  dropoff_latitude       1048575 non-null  float64\n",
      " 11  payment_type           1048575 non-null  int64  \n",
      " 12  fare_amount            1048575 non-null  float64\n",
      " 13  extra                  1048575 non-null  float64\n",
      " 14  mta_tax                1048575 non-null  float64\n",
      " 15  tip_amount             1048575 non-null  float64\n",
      " 16  tolls_amount           1048575 non-null  float64\n",
      " 17  improvement_surcharge  1048575 non-null  float64\n",
      " 18  total_amount           1048575 non-null  float64\n",
      "dtypes: float64(12), int64(4), object(3)\n",
      "memory usage: 152.0+ MB\n"
     ]
    }
   ],
   "source": [
    "green_data_origin.info()\n",
    "print('\\n')\n",
    "yellow_data_origin.info()"
   ]
  },
  {
   "cell_type": "markdown",
   "metadata": {},
   "source": [
    "# Question2"
   ]
  },
  {
   "cell_type": "code",
   "execution_count": 4,
   "metadata": {},
   "outputs": [],
   "source": [
    "green_distance= green_data_origin['Trip_distance']\n",
    "yellow_distance= yellow_data_origin['trip_distance']"
   ]
  },
  {
   "cell_type": "code",
   "execution_count": 5,
   "metadata": {},
   "outputs": [
    {
     "data": {
      "image/png": "[encoded data removed]",
      "text/plain": [
       "<Figure size 432x288 with 1 Axes>"
      ]
     },
     "metadata": {
      "needs_background": "light"
     },
     "output_type": "display_data"
    }
   ],
   "source": [
    "## Green Taxis Trip Distance graph\n",
    "from matplotlib.pyplot import MultipleLocator\n",
    "plt.hist(green_distance,bins=1000,facecolor='blue', edgecolor='blue',alpha=0.35)\n",
    "plt.title('Green Taxis Trip Distance',fontsize=14)\n",
    "plt.xlabel('Trip Distance',fontsize=10)\n",
    "plt.ylabel('Frequency',fontsize=10)\n",
    "plt.xlim(0,30)\n",
    "plt.show()\n"
   ]
  },
  {
   "cell_type": "code",
   "execution_count": 6,
   "metadata": {},
   "outputs": [
    {
     "data": {
      "image/png": "[encoded data removed]",
      "text/plain": [
       "<Figure size 432x288 with 1 Axes>"
      ]
     },
     "metadata": {
      "needs_background": "light"
     },
     "output_type": "display_data"
    }
   ],
   "source": [
    "## Yellow Taxis Trip Distance graph\n",
    "plt.hist(yellow_distance,bins=1000,facecolor='blue', edgecolor='blue',alpha=0.35)\n",
    "plt.title('Yellow Taxis Trip Distance',fontsize=14)\n",
    "plt.xlabel('Trip Distance',fontsize=10)\n",
    "plt.ylabel('Frequency',fontsize=10)\n",
    "plt.xlim(0,30)\n",
    "plt.show()"
   ]
  },
  {
   "cell_type": "markdown",
   "metadata": {},
   "source": [
    "# Question3"
   ]
  },
  {
   "cell_type": "code",
   "execution_count": 7,
   "metadata": {},
   "outputs": [
    {
     "name": "stdout",
     "output_type": "stream",
     "text": [
      "The mean of the trip distance of Green Taxis:  6328.302096774193\n",
      "The median of the trip distance of Green Taxis:  6366.090000000007\n"
     ]
    }
   ],
   "source": [
    "##Question3\n",
    "import statistics\n",
    "##Green Part\n",
    "green_date=green_data_origin['lpep_pickup_datetime']\n",
    "\n",
    "green_date.columns=['lpep_pickup_datetime']\n",
    "green_date = np.array(green_date)\n",
    "green_date = pd.to_datetime(green_date) \n",
    "green_date_period = green_date.to_period('H')\n",
    "\n",
    "green_groupbyhour=[]\n",
    "sum_distance = 0\n",
    "\n",
    "for i in range(1048574):\n",
    "    if (green_date_period[i]==green_date_period[i+1]):\n",
    "        sum_distance += green_distance[i]\n",
    "    else:\n",
    "        sum_distance += green_distance[i]\n",
    "        green_groupbyhour.append(sum_distance)\n",
    "        sum_distance=0\n",
    "\n",
    "print('The mean of the trip distance of Green Taxis: ',np.mean(green_groupbyhour))\n",
    "print('The median of the trip distance of Green Taxis: ',statistics.median(green_groupbyhour))"
   ]
  },
  {
   "cell_type": "code",
   "execution_count": 8,
   "metadata": {},
   "outputs": [
    {
     "name": "stdout",
     "output_type": "stream",
     "text": [
      "The mean of the trip distance of Yellow Taxis:  1906.92719080174\n",
      "The median of the trip distance of Yellow Taxis:  626.9800000000001\n"
     ]
    }
   ],
   "source": [
    "##Yellow Part\n",
    "yellow_date=yellow_data_origin['tpep_pickup_datetime']\n",
    "\n",
    "yellow_date.columns=['tpep_pickup_datetime']\n",
    "yellow_date = np.array(yellow_date)\n",
    "yellow_date = pd.to_datetime(yellow_date) \n",
    "\n",
    "yellow_date_period = yellow_date.to_period('H')\n",
    "\n",
    "\n",
    "yellow_groupbyhour=[]\n",
    "sum = 0\n",
    "\n",
    "for i in range(1048574):\n",
    "    if (yellow_date_period[i]==yellow_date_period[i+1]):\n",
    "        sum += yellow_distance[i]\n",
    "    else:\n",
    "        sum += yellow_distance[i]\n",
    "        yellow_groupbyhour.append(sum)\n",
    "        sum=0\n",
    "print('The mean of the trip distance of Yellow Taxis: ',np.mean(yellow_groupbyhour))\n",
    "print('The median of the trip distance of Yellow Taxis: ',statistics.median(yellow_groupbyhour))"
   ]
  },
  {
   "cell_type": "code",
   "execution_count": 9,
   "metadata": {},
   "outputs": [
    {
     "name": "stdout",
     "output_type": "stream",
     "text": [
      "The transactions of the person originate or terminate at one of the NYC area airports is : 62265\n",
      "The average fair of the person originate or terminate at one of the NYC area airports is:  15.14\n"
     ]
    }
   ],
   "source": [
    "#sort out green part\n",
    "green_pickup_long_data=green_data_origin['Pickup_longitude']\n",
    "green_pickup_lati_data=green_data_origin['Pickup_latitude']\n",
    "green_dropoff_long_data=green_data_origin['Dropoff_longitude']\n",
    "green_dropoff_lati_data=green_data_origin['Dropoff_latitude']\n",
    "green_airport_number=[]\n",
    "## Pickup from airport\n",
    "for i in range(len(green_pickup_long_data)):\n",
    "    if (round(green_pickup_long_data[i],2)== -73.78 and round(green_pickup_lati_data[i],2)==40.64):##JFK Airport\n",
    "        green_airport_number.append(i)\n",
    "    elif (round(green_pickup_long_data[i],2)== -74.17 and round(green_pickup_lati_data[i],2)==40.69):##EWR Airport\n",
    "        green_airport_number.append(i)\n",
    "    elif (round(green_pickup_long_data[i],2)== -73.87 and round(green_pickup_lati_data[i],2)==40.78):##LGA Airport\n",
    "        green_airport_number.append(i)\n",
    "    else:\n",
    "        continue\n",
    "## Dropoff from airport\n",
    "for i in range(len(green_dropoff_long_data)):\n",
    "    if (round(green_dropoff_long_data[i],2)== -73.78 and round(green_dropoff_lati_data[i],2)==40.64):##JFK Airport\n",
    "        green_airport_number.append(i)\n",
    "    elif (round(green_dropoff_long_data[i],2)== -74.17 and round(green_dropoff_lati_data[i],2)==40.69):##EWR Airport\n",
    "        green_airport_number.append(i)\n",
    "    elif (round(green_dropoff_long_data[i],2)== -73.87 and round(green_dropoff_lati_data[i],2)==40.78):##LGA Airport\n",
    "        green_airport_number.append(i)\n",
    "    else:\n",
    "        continue\n",
    "        \n",
    "# output the green data as a matrix   \n",
    "from numpy import mat\n",
    "green_data_origin_array=np.array(green_data_origin)\n",
    "green_airport_data=[]\n",
    "for i in green_airport_number:\n",
    "    green_airport_data.append(green_data_origin_array[i])\n",
    "green_airport_data=mat(green_airport_data)\n",
    "print('The transactions of the person originate or terminate at one of the NYC area airports is :' ,\n",
    "      green_airport_data.size)\n",
    "green_total_amount=green_data_origin['Total_amount']\n",
    "\n",
    "print('The average fair of the person originate or terminate at one of the NYC area airports is: ',round(np.mean(green_total_amount),2))"
   ]
  },
  {
   "cell_type": "code",
   "execution_count": 10,
   "metadata": {},
   "outputs": [
    {
     "name": "stdout",
     "output_type": "stream",
     "text": [
      "The transactions of the person originate or terminate at one of the NYC area airports is : 187891\n",
      "The average fair of the person originate or terminate at one of the NYC area airports is:  16.1\n"
     ]
    }
   ],
   "source": [
    "#sort out yellow part\n",
    "yellow_pickup_long_data=yellow_data_origin['pickup_longitude']\n",
    "yellow_pickup_lati_data=yellow_data_origin['pickup_latitude']\n",
    "yellow_dropoff_long_data=yellow_data_origin['dropoff_longitude']\n",
    "yellow_dropoff_lati_data=yellow_data_origin['dropoff_latitude']\n",
    "yellow_airport_number=[]\n",
    "## Pickup from airport\n",
    "for i in range(len(yellow_pickup_long_data)):\n",
    "    if (round(yellow_pickup_long_data[i],2)== -73.78 and round(yellow_pickup_lati_data[i],2)==40.64):##JFK Airport\n",
    "        yellow_airport_number.append(i)\n",
    "    elif (round(yellow_pickup_long_data[i],2)== -74.17 and round(yellow_pickup_lati_data[i],2)==40.69):##EWR Airport\n",
    "        yellow_airport_number.append(i)\n",
    "    elif (round(yellow_pickup_long_data[i],2)== -73.87 and round(yellow_pickup_lati_data[i],2)==40.78):##LGA Airport\n",
    "        yellow_airport_number.append(i)\n",
    "    else:\n",
    "        continue\n",
    "## Dropoff from airport\n",
    "for i in range(len(yellow_dropoff_long_data)):\n",
    "    if (round(yellow_dropoff_long_data[i],2)== -73.78 and round(yellow_dropoff_lati_data[i],2)==40.64):##JFK Airport\n",
    "        yellow_airport_number.append(i)\n",
    "    elif (round(yellow_dropoff_long_data[i],2)== -74.17 and round(yellow_dropoff_lati_data[i],2)==40.69):##EWR Airport\n",
    "        yellow_airport_number.append(i)\n",
    "    elif (round(yellow_dropoff_long_data[i],2)== -73.87 and round(yellow_dropoff_lati_data[i],2)==40.78):##LGA Airport\n",
    "        yellow_airport_number.append(i)\n",
    "    else:\n",
    "        continue\n",
    "        \n",
    "# output the yellow data as a matrix   \n",
    "from numpy import mat\n",
    "yellow_data_origin_array=np.array(yellow_data_origin)\n",
    "yellow_airport_data=[]\n",
    "for i in yellow_airport_number:\n",
    "    yellow_airport_data.append(yellow_data_origin_array[i])\n",
    "yellow_airport_data=mat(yellow_airport_data)\n",
    "print('The transactions of the person originate or terminate at one of the NYC area airports is :' ,\n",
    "      yellow_airport_data.size)\n",
    "yellow_total_amount=yellow_data_origin['total_amount']\n",
    "print('The average fair of the person originate or terminate at one of the NYC area airports is: ',round(np.mean(yellow_total_amount),2))\n",
    "\n",
    "\n",
    "\n"
   ]
  },
  {
   "cell_type": "code",
   "execution_count": 11,
   "metadata": {},
   "outputs": [],
   "source": [
    "##output yellow data\n",
    "green_name=['VendorID','lpep_pickup_datetime','Lpep_dropoff_datetime','Store_and_fwd_flag',\n",
    "        'RateCodeID','Pickup_longitude','Pickup_latitude','Dropoff_longitude','Dropoff_latitude',\n",
    "        'Passenger_count','Trip_distance','Fare_amount','Extra','MTA_tax','Tip_amount','Tolls_amount',\n",
    "        'Ehail_fee','improvement_surcharge','Total_amount','Payment_type','Trip_type ']\n",
    "output_green=pd.DataFrame(columns=green_name,data=green_airport_data)\n",
    "output_green.to_csv('green_airport_data.csv',encoding='gbk')\n",
    "\n",
    "\n",
    "## output yellow data\n",
    "yellow_name=['VendorID','tpep_pickup_datetime','tpep_dropoff_datetime','passenger_count','trip_distance',\n",
    "        'pickup_longitude','pickup_latitude','RatecodeID','store_and_fwd_flag','dropoff_longitude',\n",
    "        'dropoff_latitude','payment_type','fare_amount','extra','mta_tax','tip_amount','tolls_amount',\n",
    "        'improvement_surcharge','total_amount']\n",
    "output_yellow=pd.DataFrame(columns=yellow_name,data=yellow_airport_data)\n",
    "output_yellow.to_csv('yellow_airport_data.csv',encoding='gbk')"
   ]
  },
  {
   "cell_type": "markdown",
   "metadata": {},
   "source": [
    "# Question4"
   ]
  },
  {
   "cell_type": "markdown",
   "metadata": {},
   "source": [
    "# Green Part"
   ]
  },
  {
   "cell_type": "code",
   "execution_count": 12,
   "metadata": {},
   "outputs": [],
   "source": [
    "## Question4\n",
    "##green percent\n",
    "green_tip_data=green_data_origin['Tip_amount']\n",
    "green_total_amount=green_data_origin['Total_amount']\n",
    "green_percent=[]\n",
    "\n",
    "for i in range(len(green_tip_data)):\n",
    "    if (green_total_amount[i]==0):\n",
    "        percent=0\n",
    "    else:\n",
    "        percent=green_tip_data[i]/green_total_amount[i]\n",
    "    green_percent.append(percent)\n",
    "    \n",
    "##yellow percent\n",
    "yellow_tip_data=yellow_data_origin['tip_amount']\n",
    "yellow_total_amount=yellow_data_origin['total_amount']\n",
    "yellow_percent=[]\n",
    "\n",
    "for i in range(len(yellow_tip_data)):\n",
    "    if (yellow_total_amount[i]==0):\n",
    "        percent=0\n",
    "    else:\n",
    "        percent=yellow_tip_data[i]/yellow_total_amount[i]\n",
    "    yellow_percent.append(percent)\n"
   ]
  },
  {
   "cell_type": "code",
   "execution_count": 13,
   "metadata": {},
   "outputs": [
    {
     "name": "stdout",
     "output_type": "stream",
     "text": [
      "The R2 training of Linear part is:  0.6052761325284421\n",
      "The R2 testing of Linear part is:  0.6060846400227172\n"
     ]
    }
   ],
   "source": [
    "#Linear model AND Decision Tree in Green part\n",
    "import sklearn\n",
    "from sklearn.model_selection import train_test_split\n",
    "from sklearn import preprocessing\n",
    "from sklearn.linear_model import LinearRegression\n",
    "from sklearn.preprocessing import StandardScaler\n",
    "from sklearn.metrics import r2_score\n",
    "from sklearn.metrics import mean_squared_error\n",
    "from sklearn.model_selection import GridSearchCV\n",
    "from scipy.stats import randint\n",
    "from sklearn.tree import DecisionTreeClassifier\n",
    "from sklearn.model_selection import RandomizedSearchCV\n",
    "\n",
    "##Linear \n",
    "X = green_data_origin[['Passenger_count','Pickup_longitude','Pickup_latitude','Dropoff_longitude','Dropoff_latitude',\n",
    "                       'Trip_distance','Fare_amount','Extra','MTA_tax','Tolls_amount', 'improvement_surcharge',\n",
    "                       'Payment_type','Trip_type ']]\n",
    "y = pd.DataFrame(green_percent)\n",
    "X=X.fillna(0)\n",
    "y=y.fillna(0)\n",
    "X_train, X_test, y_train, y_test = train_test_split(X, y, test_size = 0.2, random_state=42)\n",
    "\n",
    "## standardize the X_\n",
    "scaler = preprocessing.StandardScaler().fit(X_train)\n",
    "X_train = scaler.transform(X_train)\n",
    "X_test = scaler.transform(X_test)\n",
    "\n",
    "lr = LinearRegression()\n",
    "lr.fit(X_train,y_train)\n",
    "\n",
    "## predict\n",
    "y_train_pred = lr.predict(X_train)\n",
    "y_test_pred = lr.predict(X_test)\n",
    "\n",
    "\n",
    "## linear actuarcy\n",
    "print('The R2 training of Linear part is: ', lr.score(X_train, y_train))\n",
    "print('The R2 testing of Linear part is: ', lr.score(X_test, y_test))\n",
    "\n"
   ]
  },
  {
   "cell_type": "code",
   "execution_count": 14,
   "metadata": {},
   "outputs": [
    {
     "name": "stdout",
     "output_type": "stream",
     "text": [
      "Tuned Decision Tree Parameters: {'criterion': 'gini', 'max_depth': 7.0, 'max_features': 5, 'min_samples_leaf': 3}\n",
      "Best score is 0.9999690055551582\n"
     ]
    }
   ],
   "source": [
    "##Decision Tree\n",
    "max_d=np.linspace(1,20,num = 20)\n",
    "param_dist = {\"max_depth\": max_d,\n",
    "              \"max_features\": randint(1, 7),\n",
    "              \"min_samples_leaf\": randint(1, 9),\n",
    "              \"criterion\": [\"gini\", \"entropy\"]}\n",
    "\n",
    "# Instantiate a Decision Tree classifier: tree\n",
    "tree = DecisionTreeClassifier()\n",
    "\n",
    "# Instantiate the RandomizedSearchCV object: tree_cv\n",
    "tree_cv = RandomizedSearchCV(tree, param_dist, cv=10)\n",
    "\n",
    "# Fit it to the data\n",
    "tree_cv.fit(X_train,y_train.astype('int'))\n",
    "\n",
    "# Print the tuned parameters and score\n",
    "print(\"Tuned Decision Tree Parameters: {}\".format(tree_cv.best_params_))\n",
    "print(\"Best score is {}\".format(tree_cv.best_score_))"
   ]
  },
  {
   "cell_type": "code",
   "execution_count": 15,
   "metadata": {},
   "outputs": [
    {
     "name": "stdout",
     "output_type": "stream",
     "text": [
      "DecisionTree Accuracy : 1.000\n"
     ]
    }
   ],
   "source": [
    "from sklearn.metrics import accuracy_score\n",
    "from sklearn.metrics import mean_squared_error\n",
    "best_dt = DecisionTreeClassifier(criterion='gini',max_depth=18.0,min_samples_leaf=6, min_samples_split=2)\n",
    "best_dt.fit(X_train,y_train.astype('int'))\n",
    "y_pred=best_dt.predict(X_test)\n",
    "accuracy = accuracy_score(y_pred, y_test.astype('int')) \n",
    "print('{:s} : {:.3f}'.format(\"DecisionTree Accuracy\", accuracy)) "
   ]
  },
  {
   "cell_type": "markdown",
   "metadata": {},
   "source": [
    "# Yellow Part"
   ]
  },
  {
   "cell_type": "code",
   "execution_count": 16,
   "metadata": {},
   "outputs": [
    {
     "name": "stdout",
     "output_type": "stream",
     "text": [
      "The R2 training of Linear part is:  0.7390916835852986\n",
      "The R2 testing of Linear part is:  0.7338298721430357\n"
     ]
    }
   ],
   "source": [
    "#Linear model AND Decision Tree in yellow part\n",
    "\n",
    "X = yellow_data_origin[['passenger_count','trip_distance','fare_amount','extra','mta_tax','tolls_amount',\n",
    "                        'pickup_longitude','pickup_latitude','dropoff_longitude','dropoff_latitude',\n",
    "                        'improvement_surcharge','payment_type']]\n",
    "y = pd.DataFrame(yellow_percent)\n",
    "X=X.fillna(0)\n",
    "y=y.fillna(0)\n",
    "X_train, X_test, y_train, y_test = train_test_split(X, y, test_size = 0.2, random_state=42)\n",
    "\n",
    "## standardize the X_\n",
    "scaler = preprocessing.StandardScaler().fit(X_train)\n",
    "X_train = scaler.transform(X_train)\n",
    "X_test = scaler.transform(X_test)\n",
    "\n",
    "lr = LinearRegression()\n",
    "lr.fit(X_train,y_train)\n",
    "\n",
    "## predict\n",
    "y_train_pred = lr.predict(X_train)\n",
    "y_test_pred = lr.predict(X_test)\n",
    "\n",
    "\n",
    "## linear actuarcy\n",
    "\n",
    "print('The R2 training of Linear part is: ', lr.score(X_train, y_train))\n",
    "print('The R2 testing of Linear part is: ', lr.score(X_test, y_test))\n"
   ]
  },
  {
   "cell_type": "code",
   "execution_count": 17,
   "metadata": {},
   "outputs": [
    {
     "name": "stdout",
     "output_type": "stream",
     "text": [
      "Tuned Decision Tree Parameters: {'criterion': 'entropy', 'max_depth': 11.0, 'max_features': 4, 'min_samples_leaf': 4}\n",
      "Best score is 1.0\n"
     ]
    }
   ],
   "source": [
    "##Decision Tree\n",
    "max_d=np.linspace(1,20,num = 20)\n",
    "param_dist = {\"max_depth\": max_d,\n",
    "              \"max_features\": randint(1, 7),\n",
    "              \"min_samples_leaf\": randint(1, 9),\n",
    "              \"criterion\": [\"gini\", \"entropy\"]}\n",
    "\n",
    "# Instantiate a Decision Tree classifier: tree\n",
    "tree = DecisionTreeClassifier()\n",
    "\n",
    "# Instantiate the RandomizedSearchCV object: tree_cv\n",
    "tree_cv = RandomizedSearchCV(tree, param_dist, cv=10)\n",
    "\n",
    "# Fit it to the data\n",
    "tree_cv.fit(X_train,y_train.astype('int'))\n",
    "\n",
    "# Print the tuned parameters and score\n",
    "print(\"Tuned Decision Tree Parameters: {}\".format(tree_cv.best_params_))\n",
    "print(\"Best score is {}\".format(tree_cv.best_score_))"
   ]
  },
  {
   "cell_type": "code",
   "execution_count": 18,
   "metadata": {},
   "outputs": [
    {
     "name": "stdout",
     "output_type": "stream",
     "text": [
      "DecisionTree Accuracy : 1.000\n"
     ]
    }
   ],
   "source": [
    "best_dt = DecisionTreeClassifier(criterion='entropy',max_depth=19.0,max_features=6,min_samples_leaf=6)\n",
    "best_dt.fit(X_train,y_train.astype('int'))\n",
    "y_pred=best_dt.predict(X_test)\n",
    "accuracy = accuracy_score(y_pred, y_test.astype('int')) \n",
    "print('{:s} : {:.3f}'.format(\"DecisionTree Accuracy\", accuracy)) "
   ]
  },
  {
   "cell_type": "markdown",
   "metadata": {},
   "source": [
    "## Question5"
   ]
  },
  {
   "cell_type": "code",
   "execution_count": 19,
   "metadata": {},
   "outputs": [],
   "source": [
    "import statistics\n",
    "import random\n",
    "##Green Part\n",
    "green_distance= green_data_origin['Trip_distance']\n",
    "green_date=green_data_origin['lpep_pickup_datetime']\n",
    "\n",
    "green_date.columns=['lpep_pickup_datetime']\n",
    "green_date = np.array(green_date)\n",
    "green_date = pd.to_datetime(green_date) \n",
    "green_date_period = green_date.to_period('W')\n",
    "\n",
    "green_groupbyhour=[]\n",
    "week1=[]\n",
    "week2=[]\n",
    "week3=[]\n",
    "week4=[]\n",
    "\n",
    "\n",
    "for i in range(1048574):\n",
    "    if (green_date_period[i]==green_date_period[1]):\n",
    "        week1.append(green_distance[i])\n",
    "    elif (green_date_period[i]==green_date_period[300000]):\n",
    "        week2.append(green_distance[i])\n",
    "    elif (green_date_period[i]==green_date_period[700000]):\n",
    "        week3.append(green_distance[i])\n",
    "    else:\n",
    "        week4.append(green_distance[i])\n",
    "week1 = random.sample(week1, 10000)\n",
    "week2 = random.sample(week2, 10000)\n",
    "week3 = random.sample(week3, 10000)\n",
    "week4 = random.sample(week4, 10000)\n"
   ]
  },
  {
   "cell_type": "code",
   "execution_count": 20,
   "metadata": {},
   "outputs": [
    {
     "name": "stdout",
     "output_type": "stream",
     "text": [
      "0.039495133935299534\n",
      "we accept null hypothesis. We conclude that the average trip speeds are materially the same in all weeks of September\n"
     ]
    }
   ],
   "source": [
    "from scipy.stats import ttest_ind\n",
    "score=[]\n",
    "score.append(ttest_ind(week1,week2).pvalue)\n",
    "score.append(ttest_ind(week1,week3).pvalue)\n",
    "score.append(ttest_ind(week1,week4).pvalue)\n",
    "score.append(ttest_ind(week2,week3).pvalue)\n",
    "score.append(ttest_ind(week2,week4).pvalue)\n",
    "score.append(ttest_ind(week3,week4).pvalue)\n",
    "print(ttest_ind(week3,week4).pvalue)\n",
    "\n",
    "if max(score) > 0.05:  \n",
    "    print(\"we accept null hypothesis. We conclude that the average trip speeds are materially the same in all weeks of September\")\n",
    "else: \n",
    "    print(\"we reject null hypothesis. We conclude that the average trip speeds are not materially the same in all weeks of September\")\n",
    "    \n",
    "    \n",
    "    "
   ]
  },
  {
   "cell_type": "code",
   "execution_count": 21,
   "metadata": {},
   "outputs": [
    {
     "data": {
      "image/png": "[encoded data removed]",
      "text/plain": [
       "<Figure size 576x288 with 1 Axes>"
      ]
     },
     "metadata": {
      "needs_background": "light"
     },
     "output_type": "display_data"
    }
   ],
   "source": [
    "green_date=green_data_origin['lpep_pickup_datetime']\n",
    "\n",
    "green_date.columns=['lpep_pickup_datetime']\n",
    "green_date = np.array(green_date)\n",
    "green_date = pd.to_datetime(green_date) \n",
    "green_date_period = green_date.to_period('D')\n",
    "\n",
    "green_groupbyday=[]\n",
    "sum_distance = 0\n",
    "for i in range(1048574):\n",
    "    if (green_date_period[i]==green_date_period[i+1]):\n",
    "        sum_distance += green_distance[i]\n",
    "    else:\n",
    "        sum_distance += green_distance[i]\n",
    "        green_groupbyday.append(sum_distance)\n",
    "        sum_distance=0\n",
    "x = np.linspace(1, 20, 20)\n",
    "y = green_groupbyday\n",
    "plt.figure(figsize=(8,4)) \n",
    "plt.plot(x,y,color=\"red\",linewidth=2)\n",
    "plt.xlabel(\"Time(s)\")\n",
    "plt.ylabel(\"Distance\")\n",
    "\n",
    "plt.show()"
   ]
  }
 ],
 "metadata": {
  "kernelspec": {
   "display_name": "Python 3",
   "language": "python",
   "name": "python3"
  },
  "language_info": {
   "codemirror_mode": {
    "name": "ipython",
    "version": 3
   },
   "file_extension": ".py",
   "mimetype": "text/x-python",
   "name": "python",
   "nbconvert_exporter": "python",
   "pygments_lexer": "ipython3",
   "version": "3.7.4"
  }
 },
 "nbformat": 4,
 "nbformat_minor": 4
}
